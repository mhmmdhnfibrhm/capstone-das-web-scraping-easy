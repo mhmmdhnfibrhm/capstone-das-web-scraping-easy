{
 "cells": [
  {
   "cell_type": "markdown",
   "metadata": {},
   "source": [
    "# Capstone Webscrapping using BeautifulSoup\n",
    "\n",
    "This notebook contains guidances & tasks on the data processing for the application.\n",
    "\n",
    "## Background\n",
    "\n",
    "This is a capstone project for Data Analytics Specialization course. The topic chosen for this specific project is webscrapping using BeautifulSoup. There will be a step-by-step process with some explanation from a template regarding data extraction from a website using BeautifulSoup as well as cleaning up of the data and then visualization. From the visualization, Some analysis or insight about it is then given after which a conclusion is then made from the plot. The case chosen here is the **Volume Data of Ethereum Sales** between *'Jan 1st 2020'* and *'June 30th 2021'* taken from the following url: https://www.coingecko.com/en/coins/ethereum/historical_data/usd?start_date=2020-01-01&end_date=2021-06-30#panel\n",
    "\n",
    "\n",
    "## Requesting the Data and Creating a BeautifulSoup\n",
    "\n",
    "Let's begin with requesting the web from the site with `get` method."
   ]
  },
  {
   "cell_type": "code",
   "execution_count": 1,
   "metadata": {
    "ExecuteTime": {
     "end_time": "2020-01-13T05:12:23.275508Z",
     "start_time": "2020-01-13T05:12:20.009898Z"
    }
   },
   "outputs": [],
   "source": [
    "import requests\n",
    "\n",
    "url_get = requests.get('https://www.coingecko.com/en/coins/ethereum/historical_data/usd?start_date=2020-01-01&end_date=2021-06-30#panel')"
   ]
  },
  {
   "cell_type": "markdown",
   "metadata": {},
   "source": [
    "To visualize what exactly you get from the `request.get`, we can use .content to see what we exactly get. In the following, the array is sliced so it won't make the output full of the html we get from the page. You can delete the slicing if you want to see the complete output."
   ]
  },
  {
   "cell_type": "code",
   "execution_count": 2,
   "metadata": {
    "ExecuteTime": {
     "end_time": "2020-01-13T05:12:23.290648Z",
     "start_time": "2020-01-13T05:12:23.277650Z"
    }
   },
   "outputs": [
    {
     "data": {
      "text/plain": [
       "b'<!DOCTYPE html>\\n<html lang=\"en\">\\n<head>\\n<script async defer src=\"https://www.googleoptimize.com/optimize.js?id=GTM-W3CD992\"></script>\\n<meta charset=\"utf-8\">\\n<meta http-equiv=\"X-UA-Compatible\" content=\"IE=edge\">\\n<meta name=\"viewport\" content=\"width=device-width, initial-scale=1.0\">\\n<link rel=\"shortcut icon\" href=\"/favicon.ico\">\\n<link type=\"application/opensearchdescription+xml\" rel=\"search\" href=\"/OpensearchDescription.xml\" />\\n<title>Ethereum USD Historical Data | CoinGecko</title>\\n<meta name=\"de'"
      ]
     },
     "execution_count": 2,
     "metadata": {},
     "output_type": "execute_result"
    }
   ],
   "source": [
    "url_get.content[:500]"
   ]
  },
  {
   "cell_type": "markdown",
   "metadata": {},
   "source": [
    "As we can see we get a very unstructured and complex html, which actually contains the codes needed to show the webpages on your web browser. But we as a human can still be confused as to what and where we can use that piece of code, so here is where we use the BeautifulSoup. BeautifulSoup class will result in a BeautifulSoup object. Beautiful Soup transforms a complex HTML document into a complex tree of Python objects. \n",
    "\n",
    "Let's make a BeautifulSoup object and feel free to explore the object here."
   ]
  },
  {
   "cell_type": "code",
   "execution_count": 3,
   "metadata": {
    "ExecuteTime": {
     "end_time": "2020-01-13T05:12:23.808122Z",
     "start_time": "2020-01-13T05:12:23.292610Z"
    }
   },
   "outputs": [],
   "source": [
    "from bs4 import BeautifulSoup \n",
    "\n",
    "soup = BeautifulSoup(url_get.content,\"html.parser\")"
   ]
  },
  {
   "cell_type": "markdown",
   "metadata": {},
   "source": [
    "## Finding the Right Key to Scrap the Data & Extracting the Right Information"
   ]
  },
  {
   "cell_type": "markdown",
   "metadata": {},
   "source": [
    "If you click on the link under **Background**, you will find a table with the following column names: *'Date'*, *'Market Cap'*, *'Volume'*, *'Open'*, and *'Close'*. The informations that we need are the *'Date'* and *'Volume'* columns which are contained in the table.\n",
    "\n",
    "The first step to scrap data is to right-click on the table and then click on inspect element. This will open up an html code to the right, highlighting the line of code which affects the element on the webpage.\n",
    "\n",
    "Next, we need to find the key or in this case the html tag which contains the table data. It should be close to the highlighted line when you first inspect the table. In this case, the tag `tbody` contains all the column data from the table. Thus, use `soup.find('tbody')` to get all the codes contained within these `tbody` tags."
   ]
  },
  {
   "cell_type": "code",
   "execution_count": 4,
   "metadata": {
    "ExecuteTime": {
     "end_time": "2020-01-13T05:12:23.878904Z",
     "start_time": "2020-01-13T05:12:23.854974Z"
    }
   },
   "outputs": [
    {
     "name": "stdout",
     "output_type": "stream",
     "text": [
      "<tbody>\n",
      " <tr>\n",
      "  <th class=\"font-semibold text-center\" scope=\"row\">\n",
      "   2021-06-30\n",
      "  </th>\n",
      "  <td class=\"text-center\">\n",
      "   $253,607,549,372\n",
      "  </td>\n",
      "  <td class=\"text-center\">\n",
      "   $27,149,143,847\n",
      "  </td>\n",
      "  <td class=\"text-center\">\n",
      "   $2,169.40\n",
      "  </td>\n",
      "  <td class=\"text-center\">\n",
      "   N/A\n",
      "  </td>\n",
      " </tr>\n",
      " <tr>\n",
      "  <th class=\"font-semibold text-center\" scope=\"row\">\n",
      "   2021-06-29\n",
      "  </th>\n",
      "  <td class=\"text-center\">\n",
      "   $243,040,539,437\n",
      "  </td>\n",
      "  <td class=\"text-center\">\n",
      "   $30,629,329,806\n",
      "  </td>\n",
      "  <td class=\"te\n"
     ]
    }
   ],
   "source": [
    "table = soup.find('tbody')\n",
    "print(table.prettify()[:500])"
   ]
  },
  {
   "cell_type": "markdown",
   "metadata": {},
   "source": [
    "Finding row length."
   ]
  },
  {
   "cell_type": "code",
   "execution_count": 5,
   "metadata": {},
   "outputs": [],
   "source": [
    "row = table.find_all('th', attrs={'scope':'row', 'class':'font-semibold text-center'})\n",
    "row_length = len(row)"
   ]
  },
  {
   "cell_type": "markdown",
   "metadata": {},
   "source": [
    "Now that we know the number of rows, we can finally make a `for` loop to iterate the collecting and appending of data to a tuple. This is the scrapping process. \n",
    "\n",
    "First, we initialize an empty tuple and name it 'temp'. This is done so we have a container to append the data to in the `for` loop. Next, we start the for loop as written in the following cell block. Looking back the html code that we inspected, 'Date' and 'Volume' seems to have different keys. For 'Date', the key is the `th` tag with attributes as written in the following cell blocks. As for 'Volume', the key is the `td` tag with attributes as written in the following cell blocks. Next, since `.find_all()` function will return an array containing column data within html tags, to extract it one by one, we have to access it by the index `[i]`. There doesn't seem to be any trouble using this method to iterate the 'Date' column. But with the 'Volume' column, the `find_all()` on the `td` tag produces a set of data that is not only 'Volume'. Thus, the indexing for 'Volume' is made to be `[i+1+(i*3)]` since the 'Volume' data repeats on the second one in a four data dataset. Finally, `.append()` function is used to add the 'Date' and 'Volume' data to the tuple."
   ]
  },
  {
   "cell_type": "code",
   "execution_count": 6,
   "metadata": {
    "ExecuteTime": {
     "end_time": "2020-01-13T05:12:24.008256Z",
     "start_time": "2020-01-13T05:12:23.980358Z"
    }
   },
   "outputs": [
    {
     "data": {
      "text/plain": [
       "[('2021-06-30', '\\n$27,149,143,847\\n'),\n",
       " ('2021-06-29', '\\n$30,629,329,806\\n'),\n",
       " ('2021-06-28', '\\n$24,316,408,028\\n'),\n",
       " ('2021-06-27', '\\n$24,249,510,321\\n'),\n",
       " ('2021-06-26', '\\n$25,981,381,067\\n'),\n",
       " ('2021-06-25', '\\n$22,447,489,242\\n'),\n",
       " ('2021-06-24', '\\n$28,098,744,045\\n'),\n",
       " ('2021-06-23', '\\n$38,755,019,937\\n'),\n",
       " ('2021-06-22', '\\n$39,499,960,408\\n'),\n",
       " ('2021-06-21', '\\n$26,235,850,447\\n')]"
      ]
     },
     "execution_count": 6,
     "metadata": {},
     "output_type": "execute_result"
    }
   ],
   "source": [
    "temp = [] #initiating a tuple\n",
    "\n",
    "for i in range(0, row_length):\n",
    "\n",
    "    #scrapping process\n",
    "    #get Date\n",
    "    date = table.find_all('th', attrs={'scope':'row', 'class':'font-semibold text-center'})[i].text\n",
    "    \n",
    "    #get Volume\n",
    "    volume = table.find_all('td', attrs={'class': 'text-center'})[i+1+(i*3)].text\n",
    "    \n",
    "    temp.append((date, volume))\n",
    "    \n",
    "temp[:10] "
   ]
  },
  {
   "cell_type": "code",
   "execution_count": 7,
   "metadata": {},
   "outputs": [],
   "source": [
    "temp = temp[::-1]"
   ]
  },
  {
   "cell_type": "markdown",
   "metadata": {},
   "source": [
    "## Creating Data Frame & Data Wrangling"
   ]
  },
  {
   "cell_type": "markdown",
   "metadata": {},
   "source": [
    "Put the array into dataframe."
   ]
  },
  {
   "cell_type": "code",
   "execution_count": 8,
   "metadata": {
    "ExecuteTime": {
     "end_time": "2020-01-13T05:12:41.517372Z",
     "start_time": "2020-01-13T05:12:29.130015Z"
    }
   },
   "outputs": [
    {
     "data": {
      "text/html": [
       "<div>\n",
       "<style scoped>\n",
       "    .dataframe tbody tr th:only-of-type {\n",
       "        vertical-align: middle;\n",
       "    }\n",
       "\n",
       "    .dataframe tbody tr th {\n",
       "        vertical-align: top;\n",
       "    }\n",
       "\n",
       "    .dataframe thead th {\n",
       "        text-align: right;\n",
       "    }\n",
       "</style>\n",
       "<table border=\"1\" class=\"dataframe\">\n",
       "  <thead>\n",
       "    <tr style=\"text-align: right;\">\n",
       "      <th></th>\n",
       "      <th>Date</th>\n",
       "      <th>Volume</th>\n",
       "    </tr>\n",
       "  </thead>\n",
       "  <tbody>\n",
       "    <tr>\n",
       "      <th>0</th>\n",
       "      <td>2020-01-01</td>\n",
       "      <td>\\n$7,103,187,151\\n</td>\n",
       "    </tr>\n",
       "    <tr>\n",
       "      <th>1</th>\n",
       "      <td>2020-01-02</td>\n",
       "      <td>\\n$6,623,732,041\\n</td>\n",
       "    </tr>\n",
       "    <tr>\n",
       "      <th>2</th>\n",
       "      <td>2020-01-03</td>\n",
       "      <td>\\n$6,497,297,884\\n</td>\n",
       "    </tr>\n",
       "    <tr>\n",
       "      <th>3</th>\n",
       "      <td>2020-01-04</td>\n",
       "      <td>\\n$9,655,245,100\\n</td>\n",
       "    </tr>\n",
       "    <tr>\n",
       "      <th>4</th>\n",
       "      <td>2020-01-05</td>\n",
       "      <td>\\n$6,958,393,690\\n</td>\n",
       "    </tr>\n",
       "  </tbody>\n",
       "</table>\n",
       "</div>"
      ],
      "text/plain": [
       "         Date              Volume\n",
       "0  2020-01-01  \\n$7,103,187,151\\n\n",
       "1  2020-01-02  \\n$6,623,732,041\\n\n",
       "2  2020-01-03  \\n$6,497,297,884\\n\n",
       "3  2020-01-04  \\n$9,655,245,100\\n\n",
       "4  2020-01-05  \\n$6,958,393,690\\n"
      ]
     },
     "execution_count": 8,
     "metadata": {},
     "output_type": "execute_result"
    }
   ],
   "source": [
    "import pandas as pd\n",
    "\n",
    "df = pd.DataFrame(temp, columns = ('Date', 'Volume'))\n",
    "df.head()"
   ]
  },
  {
   "cell_type": "markdown",
   "metadata": {},
   "source": [
    "**Data Wrangling:**\n",
    "\n",
    "From the output of the previous cell, it is shown that the 'Volume' column had some unwanted text such as '\\n', '$', and ','. From the output of the next cell, it is shown that the columns types are still incorrect. Thus, for 'Volume', the unneeded texts/strings are cleaned up using `.str.replace()` before changing the types into 'int64'. As for 'Date', the type is changed into 'datetime64'. Next, if the dataframe `df` is checked, it can be seen that it is still using the built-in indexing, thus we change it as well using `df.set_index()` using the column that is meant to be the index."
   ]
  },
  {
   "cell_type": "code",
   "execution_count": 9,
   "metadata": {
    "ExecuteTime": {
     "end_time": "2020-01-13T05:12:59.165559Z",
     "start_time": "2020-01-13T05:12:58.910012Z"
    }
   },
   "outputs": [
    {
     "data": {
      "text/plain": [
       "Date      object\n",
       "Volume    object\n",
       "dtype: object"
      ]
     },
     "execution_count": 9,
     "metadata": {},
     "output_type": "execute_result"
    }
   ],
   "source": [
    "df.dtypes"
   ]
  },
  {
   "cell_type": "code",
   "execution_count": 10,
   "metadata": {},
   "outputs": [
    {
     "name": "stderr",
     "output_type": "stream",
     "text": [
      "C:\\Users\\mhmmd\\AppData\\Local\\Temp\\ipykernel_21092\\2500474183.py:3: FutureWarning: The default value of regex will change from True to False in a future version. In addition, single character regular expressions will *not* be treated as literal strings when regex=True.\n",
      "  df['Volume'] = df['Volume'].str.replace(\"$\", \"\")\n"
     ]
    },
    {
     "data": {
      "text/plain": [
       "Date      datetime64[ns]\n",
       "Volume             int64\n",
       "dtype: object"
      ]
     },
     "execution_count": 10,
     "metadata": {},
     "output_type": "execute_result"
    }
   ],
   "source": [
    "df['Date'] = df['Date'].astype('datetime64')\n",
    "df['Volume'] = df['Volume'].str.replace(\"\\n\", \"\")\n",
    "df['Volume'] = df['Volume'].str.replace(\"$\", \"\")\n",
    "df['Volume'] = df['Volume'].str.replace(\",\", \"\")\n",
    "df['Volume'] = df['Volume'].astype('int64')\n",
    "\n",
    "df.dtypes"
   ]
  },
  {
   "cell_type": "code",
   "execution_count": 11,
   "metadata": {},
   "outputs": [],
   "source": [
    "df = df.set_index('Date')"
   ]
  },
  {
   "cell_type": "markdown",
   "metadata": {},
   "source": [
    "**Data Visualisation:**\n",
    "\n",
    "Since all cleaning up have been done, we can finally plot the dataframe. Here, we are going to use a line plot since from the data, we have only date and volume. From this kind of data, it is more likely used to monitor progression or trend. As for other kind of plots, it either doesn't answer the question/case or there is not enough data."
   ]
  },
  {
   "cell_type": "code",
   "execution_count": 12,
   "metadata": {},
   "outputs": [
    {
     "data": {
      "text/plain": [
       "<AxesSubplot:xlabel='Date'>"
      ]
     },
     "execution_count": 12,
     "metadata": {},
     "output_type": "execute_result"
    },
    {
     "data": {
      "image/png": "[encoded data removed]",
      "text/plain": [
       "<Figure size 432x288 with 1 Axes>"
      ]
     },
     "metadata": {
      "needs_background": "light"
     },
     "output_type": "display_data"
    }
   ],
   "source": [
    "df.plot()"
   ]
  },
  {
   "cell_type": "markdown",
   "metadata": {},
   "source": [
    "### Implementing your webscrapping to the flask dashboard\n",
    "\n",
    "- Copy paste all of your web scrapping process to the desired position on the `app.py`\n",
    "- Changing the title of the dasboard at `index.html`"
   ]
  },
  {
   "cell_type": "markdown",
   "metadata": {},
   "source": [
    "## Finishing this Notebook with Your Analysis and Conclusion\n",
    "\n",
    "First you can do start with making the data visualisation. "
   ]
  },
  {
   "cell_type": "code",
   "execution_count": 13,
   "metadata": {
    "ExecuteTime": {
     "end_time": "2020-01-13T05:20:56.208237Z",
     "start_time": "2020-01-13T05:20:56.076043Z"
    }
   },
   "outputs": [
    {
     "data": {
      "text/plain": [
       "<AxesSubplot:xlabel='Date'>"
      ]
     },
     "execution_count": 13,
     "metadata": {},
     "output_type": "execute_result"
    },
    {
     "data": {
      "image/png": "[encoded data removed]",
      "text/plain": [
       "<Figure size 432x288 with 1 Axes>"
      ]
     },
     "metadata": {
      "needs_background": "light"
     },
     "output_type": "display_data"
    }
   ],
   "source": [
    "df.plot()"
   ]
  },
  {
   "cell_type": "markdown",
   "metadata": {},
   "source": [
    "**Analysis:**\n",
    "\n",
    "Before making an analysis we must first define what is 'Volume' in this case. 'Volume' here is the volume of cryptocurrency 'Ethereum' which means that it shows the amount of \"transactions\" made during a day. This can also mean that 'Ethereum' is active/popular or not.\n",
    "\n",
    "The first insight that can be made just by looking at the plot is that in those time period, there is no 'Volume' with a value of zero. This could mean that in this time period, 'Ethereum' is not dead as in it is still being traded. The second insight that can be made is that there are two peaks that doesn't look like an outlier. The first peak being somewhere on February 2020 while the second peak being somewhere on May 2021. This could mean that for during those months there is something like an event which causes people to lean on trading 'Ethereum'. The third insight that can be made is that there are two peaks that is an outlier since the shape doesn't look like a mountain peak but just a straight line up. The first outlier peak occurred somewhere on September 2020 while the second outlier peak occurred somewhere on January 2021. This could mean that there is a false alarm as in someone falsely predicted a rise or a fall in cryptocurrency and thus causing a lot of transaction then. Another meaning could be that very few people correctly predicted a rise in price, thus since they have budget, they buy a lot of 'Ethereum' thus causing the spike on that day.\n",
    "\n",
    "**Conclusion:**\n",
    "\n",
    "History of Volume data as shown on the plot can be used to make some interesting insights on 'Ethereum'. Why history? This is because this notebook is written in the year 2022. Thus to use this data to make a decision on 'Ethereum' trading now can be pretty unreliable. In any case, the conclusion that can be made here is that perhaps we can matchup the date or months of peaks or outliers to find out if there is any event that causes such shape and maybe plan in advance if such event occurs in the future."
   ]
  },
  {
   "cell_type": "markdown",
   "metadata": {},
   "source": [
    "### Extra Challange\n",
    "\n",
    "This will be not included to the scoring. \n",
    "\n",
    "- You can create additional analysis from the data.\n",
    "- Implement it to the dashboard with at `app.py` dan `index.html`."
   ]
  }
 ],
 "metadata": {
  "kernelspec": {
   "display_name": "web_scraping",
   "language": "python",
   "name": "web_scraping"
  },
  "language_info": {
   "codemirror_mode": {
    "name": "ipython",
    "version": 3
   },
   "file_extension": ".py",
   "mimetype": "text/x-python",
   "name": "python",
   "nbconvert_exporter": "python",
   "pygments_lexer": "ipython3",
   "version": "3.9.7"
  },
  "toc": {
   "base_numbering": 1,
   "nav_menu": {},
   "number_sections": true,
   "sideBar": true,
   "skip_h1_title": false,
   "title_cell": "Table of Contents",
   "title_sidebar": "Contents",
   "toc_cell": false,
   "toc_position": {},
   "toc_section_display": true,
   "toc_window_display": false
  }
 },
 "nbformat": 4,
 "nbformat_minor": 2
}
